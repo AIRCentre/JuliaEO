{
 "cells": [
  {
   "cell_type": "code",
   "execution_count": null,
   "id": "41ff310b-f329-44df-9729-f81616d98ff6",
   "metadata": {},
   "outputs": [],
   "source": [
    "using Pkg\n",
    "Pkg.update()\n",
    "Pkg.add([\"LazIO\", \"GeoDataFrames\", \"GeoFormatTypes\", \"Extents\", \"DataFrames\", \"GeoInterface\", \"GeoInterfaceRecipes\", \"GeoArrays\", \"GeoArrayOps\", \"SpaceLiDAR\", \"Plots\", \"Shapefile\", \"GeoStatsSolvers\"])\n",
    "Pkg.add(url=\"https://github.com/Deltares/PointCloudRasterizers.jl\")  # package will be registered from 16-01-2023 on"
   ]
  },
  {
   "cell_type": "markdown",
   "id": "6889e4cb-d5dc-40b2-b2eb-305a61ea51bb",
   "metadata": {},
   "source": [
    "# LiDAR pointclouds\n",
    "In this notebook we open a small LiDAR pointcloud in the .laz format and try to classify the ground surface."
   ]
  },
  {
   "cell_type": "code",
   "execution_count": null,
   "id": "63be6b46-373f-4466-8e2c-b67be96f8dc3",
   "metadata": {},
   "outputs": [],
   "source": [
    "using LazIO, PointCloudRasterizers, GeoInterface, GeoInterfaceRecipes, GeoDataFrames, Plots, DataFrames, GeoFormatTypes, GeoArrayOps, GeoArrays, Statistics, GeoStatsSolvers"
   ]
  },
  {
   "cell_type": "code",
   "execution_count": null,
   "id": "bcc01839-1f80-49f4-b828-7f1ef1252183",
   "metadata": {},
   "outputs": [],
   "source": [
    "fn = \"vlieland.laz\"\n",
    "ds = LazIO.open(fn)"
   ]
  },
  {
   "cell_type": "code",
   "execution_count": null,
   "id": "1e30002e-d148-4431-b754-46c41da081a1",
   "metadata": {},
   "outputs": [],
   "source": [
    "plot(collect(ds)[begin:100:end])"
   ]
  },
  {
   "cell_type": "code",
   "execution_count": null,
   "id": "cc01d781-18c7-467c-bef3-8939703e1113",
   "metadata": {},
   "outputs": [],
   "source": [
    "df = DataFrame(ds)"
   ]
  },
  {
   "cell_type": "code",
   "execution_count": null,
   "id": "68b7d1a2-22c2-46aa-8add-50a5d58185ef",
   "metadata": {},
   "outputs": [],
   "source": [
    "histogram(df.number_of_returns)"
   ]
  },
  {
   "cell_type": "code",
   "execution_count": null,
   "id": "12a6b242-4f22-4ae0-a642-58284c5d88f7",
   "metadata": {},
   "outputs": [],
   "source": [
    "GeoDataFrames.write(\"vlieland.gpkg\", df)"
   ]
  },
  {
   "cell_type": "code",
   "execution_count": null,
   "id": "a4537e2c-fb1c-4218-8fcc-6de477c5b78c",
   "metadata": {},
   "outputs": [],
   "source": [
    "round(Int, filesize(\"vlieland.laz\") / filesize(\"vlieland.gpkg\") * 100)"
   ]
  },
  {
   "cell_type": "markdown",
   "id": "96b264ad-fcd6-4de2-b18a-0f103eed8da0",
   "metadata": {},
   "source": [
    "# Classifying the pointcloud\n",
    "Let's classify the pointcloud, specifically to find the terrain."
   ]
  },
  {
   "cell_type": "code",
   "execution_count": null,
   "id": "6466999f-a530-4b5a-858f-73b3ff62cfb6",
   "metadata": {},
   "outputs": [],
   "source": [
    "idx = PointCloudRasterizers.index(ds, (1, 1), crs=GeoFormatTypes.EPSG(28992));"
   ]
  },
  {
   "cell_type": "code",
   "execution_count": null,
   "id": "0c548e3c-b6f9-442a-b262-b38d174d525f",
   "metadata": {},
   "outputs": [],
   "source": [
    "plot(idx.counts, size=(1000,1000))"
   ]
  },
  {
   "cell_type": "code",
   "execution_count": null,
   "id": "c8a9bf7d-481d-45b6-a451-878f5d112d56",
   "metadata": {},
   "outputs": [],
   "source": [
    "last_return(p) = p.return_number == p.number_of_returns"
   ]
  },
  {
   "cell_type": "code",
   "execution_count": null,
   "id": "4c78593d-50c8-440f-8250-a73c0a911a43",
   "metadata": {},
   "outputs": [],
   "source": [
    "filter!(idx, last_return);"
   ]
  },
  {
   "cell_type": "code",
   "execution_count": null,
   "id": "d51a9f96-ff59-4293-a40c-d234601c1cd4",
   "metadata": {},
   "outputs": [],
   "source": [
    "plot(idx.counts, size=(1000,1000))"
   ]
  },
  {
   "cell_type": "code",
   "execution_count": null,
   "id": "784459e8-8ab4-4cc7-8f26-77adaa303848",
   "metadata": {},
   "outputs": [],
   "source": [
    "min_raster = reduce(idx, reducer=minimum)"
   ]
  },
  {
   "cell_type": "code",
   "execution_count": null,
   "id": "6991b12a-31ba-4e51-b37d-23a60218a6cf",
   "metadata": {},
   "outputs": [],
   "source": [
    "plot(min_raster, c=:turbo, clim=(0,18), size=(1000,1000))"
   ]
  },
  {
   "cell_type": "code",
   "execution_count": null,
   "id": "77980464-3a29-4b92-a3cb-61e1db2a7126",
   "metadata": {},
   "outputs": [],
   "source": [
    "max_raster, windows = pmf(GeoArrays.coalesce(min_raster, NaN))"
   ]
  },
  {
   "cell_type": "code",
   "execution_count": null,
   "id": "d40eb005-5e97-4291-8414-5dcdb833743c",
   "metadata": {},
   "outputs": [],
   "source": [
    "plot(max_raster, c=:turbo, clim=(0,18), size=(1000,1000))"
   ]
  },
  {
   "cell_type": "code",
   "execution_count": null,
   "id": "181ba04a-ed2d-437b-8b6a-4391d4174944",
   "metadata": {},
   "outputs": [],
   "source": [
    "?pmf"
   ]
  },
  {
   "cell_type": "code",
   "execution_count": null,
   "id": "4724e401-1297-44d4-a164-9d7387f73f28",
   "metadata": {},
   "outputs": [],
   "source": [
    "max_raster2, _ = pmf(GeoArrays.coalesce(min_raster, NaN),slope=0.1, ωₘ=35., dh₀=1.0, dhₘ=10.)"
   ]
  },
  {
   "cell_type": "code",
   "execution_count": null,
   "id": "a0845ead-a1ab-4d94-8404-012e1d89b280",
   "metadata": {},
   "outputs": [],
   "source": [
    "plot(max_raster2, c=:turbo, clim=(0,18), size=(1000,1000))"
   ]
  },
  {
   "cell_type": "code",
   "execution_count": null,
   "id": "0d804578-d5ef-457a-9310-1ddf7c28f996",
   "metadata": {},
   "outputs": [],
   "source": [
    "terrain(p, r) = GeoInterface.z(p) <= r"
   ]
  },
  {
   "cell_type": "code",
   "execution_count": null,
   "id": "1f17197c-e557-42d5-bbb3-484b8f517b0d",
   "metadata": {},
   "outputs": [],
   "source": [
    "filter!(idx, max_raster2, terrain);"
   ]
  },
  {
   "cell_type": "code",
   "execution_count": null,
   "id": "88234c90-8d10-444e-bf29-bb5f7e6da8b1",
   "metadata": {},
   "outputs": [],
   "source": [
    "plot(idx.counts, size=(1000,1000))"
   ]
  },
  {
   "cell_type": "code",
   "execution_count": null,
   "id": "99ce0897-7f28-4e3d-b45d-7026b2a6f31d",
   "metadata": {},
   "outputs": [],
   "source": [
    "dtm = reduce(idx, reducer=mean)"
   ]
  },
  {
   "cell_type": "code",
   "execution_count": null,
   "id": "4de8ba63-f8f5-4beb-a351-3978466bcf55",
   "metadata": {},
   "outputs": [],
   "source": [
    "plot(dtm, size=(1000,1000), c=:turbo)"
   ]
  },
  {
   "cell_type": "markdown",
   "id": "0bd19ad4-1b06-41e1-a7c6-1c33686c360c",
   "metadata": {},
   "source": [
    "Now we just need to interpolate. We can use any Estimation Solver from GeoStats: https://juliaearth.github.io/GeoStats.jl/dev/solvers/builtin.html#Estimation"
   ]
  },
  {
   "cell_type": "code",
   "execution_count": null,
   "id": "6cc255be-98ce-4438-914d-a87351c91be2",
   "metadata": {},
   "outputs": [],
   "source": [
    "GeoArrays.fill!(dtm, Kriging(:band => (maxneighbors=10,)))"
   ]
  },
  {
   "cell_type": "code",
   "execution_count": null,
   "id": "b8766088-2940-40e2-9996-b7a77ce3805c",
   "metadata": {},
   "outputs": [],
   "source": [
    "plot(dtm, size=(1000,1000), c=:turbo)"
   ]
  },
  {
   "cell_type": "code",
   "execution_count": null,
   "id": "cb4c4b28-c9b5-4a05-98e7-596b6c8fdd10",
   "metadata": {},
   "outputs": [],
   "source": []
  }
 ],
 "metadata": {
  "kernelspec": {
   "display_name": "Julia 1.8.5",
   "language": "julia",
   "name": "julia-1.8"
  },
  "language_info": {
   "file_extension": ".jl",
   "mimetype": "application/julia",
   "name": "julia",
   "version": "1.8.5"
  }
 },
 "nbformat": 4,
 "nbformat_minor": 5
}
