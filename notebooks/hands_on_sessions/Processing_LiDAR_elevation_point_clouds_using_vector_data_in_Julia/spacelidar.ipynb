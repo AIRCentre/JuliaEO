{
 "cells": [
  {
   "cell_type": "code",
   "execution_count": null,
   "id": "4f836d76-83d4-4aaa-a151-18a5d6ae831a",
   "metadata": {},
   "outputs": [],
   "source": [
    "using Pkg\n",
    "Pkg.update()\n",
    "Pkg.add([\"SpaceLiDAR\", \"GeoDataFrames\", \"DataFrames\", \"GeoFormatTypes\", \"Extents\"])"
   ]
  },
  {
   "cell_type": "markdown",
   "id": "a25b43a9-f737-4cbe-95e3-d1f6490c75df",
   "metadata": {},
   "source": [
    "# SpaceLiDAR\n",
    "Use the SpaceLiDAR package to search and process spaceborne LiDAR such as ICESat-2."
   ]
  },
  {
   "cell_type": "code",
   "execution_count": null,
   "id": "1166a538-7a90-4e7b-806c-fdc3203261ba",
   "metadata": {},
   "outputs": [],
   "source": [
    "using SpaceLiDAR, GeoDataFrames, GeoFormatTypes, DataFrames, Plots, Extents"
   ]
  },
  {
   "cell_type": "markdown",
   "id": "8de12ed0-3811-45db-bb96-9d5b4f3bfe0b",
   "metadata": {},
   "source": [
    "Here we search (internally using search.earthdata.nasa.gov) for all ICESat-2 ATL08 granules within a given extent (a degree box around Terceira)."
   ]
  },
  {
   "cell_type": "code",
   "execution_count": null,
   "id": "0c24c8d8-850f-4b9f-9ee0-39d7f6af9796",
   "metadata": {},
   "outputs": [],
   "source": [
    "granules = search(:ICESat2, :ATL08; bbox=Extent(X=(38, 39), Y=(-27, -26)))"
   ]
  },
  {
   "cell_type": "code",
   "execution_count": null,
   "id": "3d18c6f6-0b90-42ea-a414-171641930689",
   "metadata": {},
   "outputs": [],
   "source": [
    "granules[1]"
   ]
  },
  {
   "cell_type": "markdown",
   "id": "1465f21c-2c2d-4659-b798-dcb4fb7a78ba",
   "metadata": {},
   "source": [
    "We could now donwnload this file if you have a NASA Earthdata account. You would first use `SpaceLiDAR.netrc!(username, password)` and then call `download!(g)` on the granule. Since I'm not going to share my credentials and our bandwith is limited, let's use the provided file directly."
   ]
  },
  {
   "cell_type": "code",
   "execution_count": null,
   "id": "5c9a6173-593f-452b-afb5-8136b4444820",
   "metadata": {},
   "outputs": [],
   "source": [
    "fn = \"ATL08_20201121151145_08920913_005_01.h5\"\n",
    "g = SpaceLiDAR.granule_from_file(fn)"
   ]
  },
  {
   "cell_type": "code",
   "execution_count": null,
   "id": "3bb588cc-a6a1-452f-99c3-9a1094de7229",
   "metadata": {},
   "outputs": [],
   "source": [
    "df = DataFrame(g)"
   ]
  },
  {
   "cell_type": "code",
   "execution_count": null,
   "id": "24852c97-29c8-45e1-958f-c5a7e3655621",
   "metadata": {},
   "outputs": [],
   "source": [
    "scatter(df.longitude, df.latitude, markersize=2, zcolor=df.height, color=:turbo, markerstrokewidth=0, label=g.id, xlabel=\"Longitude °\", ylabel=\"Latitude °\", size=(500,500))"
   ]
  },
  {
   "cell_type": "code",
   "execution_count": null,
   "id": "ea1c14c7-4975-4abf-a1e4-4c6f944b0b59",
   "metadata": {},
   "outputs": [],
   "source": [
    "scatter(df.longitude, df.height, markersize=1, zcolor=df.detector_id, color=:tab10, markerstrokewidth=0, label=g.id, xlabel=\"Longitude °\", ylabel=\"Height [m +ellipsoid]\", size=(500,250))"
   ]
  },
  {
   "cell_type": "code",
   "execution_count": null,
   "id": "93e8c217-21f7-45d5-9088-99874a0a43a5",
   "metadata": {},
   "outputs": [],
   "source": [
    "df.geometry .= GeoDataFrames.createpoint.(df.longitude, df.latitude, df.height)\n",
    "GeoDataFrames.write(\"atl08.gpkg\", df, crs=GeoFormatTypes.EPSG(4326))"
   ]
  }
 ],
 "metadata": {
  "kernelspec": {
   "display_name": "Julia 1.8.5",
   "language": "julia",
   "name": "julia-1.8"
  },
  "language_info": {
   "file_extension": ".jl",
   "mimetype": "application/julia",
   "name": "julia",
   "version": "1.8.5"
  }
 },
 "nbformat": 4,
 "nbformat_minor": 5
}
